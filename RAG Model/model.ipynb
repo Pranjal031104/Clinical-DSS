{
 "cells": [
  {
   "cell_type": "code",
   "execution_count": null,
   "metadata": {},
   "outputs": [
    {
     "name": "stderr",
     "output_type": "stream",
     "text": [
      "C:\\Users\\LENOVO\\AppData\\Roaming\\Python\\Python310\\site-packages\\tqdm\\auto.py:21: TqdmWarning: IProgress not found. Please update jupyter and ipywidgets. See https://ipywidgets.readthedocs.io/en/stable/user_install.html\n",
      "  from .autonotebook import tqdm as notebook_tqdm\n"
     ]
    }
   ],
   "source": [
    "# Step 1: Import Required Libraries\n",
    "import pandas as pd\n",
    "from haystack.document_stores import FAISSDocumentStore\n",
    "from haystack.nodes import EmbeddingRetriever, FARMReader\n",
    "from haystack.pipelines import ExtractiveQAPipeline\n"
   ]
  },
  {
   "cell_type": "code",
   "execution_count": 2,
   "metadata": {},
   "outputs": [],
   "source": [
    "# Step 2: Load the Dataset (First 10,000 Rows)\n",
    "# Replace 'metadata.csv' with your dataset file\n",
    "df = pd.read_csv('metadata.csv', nrows=10000)  # Load only the first 10,000 rows\n"
   ]
  },
  {
   "cell_type": "code",
   "execution_count": 3,
   "metadata": {},
   "outputs": [],
   "source": [
    "# Step 3: Preprocess the Data\n",
    "df = df.dropna(subset=['abstract'])  # Drop rows with missing abstracts"
   ]
  },
  {
   "cell_type": "code",
   "execution_count": 4,
   "metadata": {},
   "outputs": [],
   "source": [
    "# Step 4: Prepare Documents for RAG\n",
    "documents = []\n",
    "for idx, row in df.iterrows():\n",
    "    documents.append({\n",
    "        \"content\": row['abstract'][:500],  # Truncate abstract to 500 characters\n",
    "        \"meta\": {\n",
    "            \"title\": row['title'],\n",
    "            \"authors\": row['authors'],\n",
    "            \"publish_time\": row['publish_time'],\n",
    "            \"source\": row['source_x']\n",
    "        }\n",
    "    })"
   ]
  },
  {
   "cell_type": "code",
   "execution_count": 5,
   "metadata": {},
   "outputs": [
    {
     "name": "stderr",
     "output_type": "stream",
     "text": [
      "Writing Documents: 10000it [00:48, 207.09it/s]             \n"
     ]
    }
   ],
   "source": [
    "# Step 5: Initialize the RAG Pipeline with FAISSDocumentStore\n",
    "# Set embedding_dim=384 to match the model's output\n",
    "document_store = FAISSDocumentStore(\n",
    "    sql_url=\"sqlite:///faiss_document_store.db\",\n",
    "    faiss_index_factory_str=\"Flat\",\n",
    "    embedding_dim=384  # Set embedding dimension to 384\n",
    ")\n",
    "\n",
    "# Write documents to the document store\n",
    "document_store.write_documents(documents)\n"
   ]
  },
  {
   "cell_type": "code",
   "execution_count": 6,
   "metadata": {},
   "outputs": [],
   "source": [
    "# Step 6: Initialize the Retriever (Embedding-based)\n",
    "# Use a lightweight embedding model for semantic search\n",
    "retriever = EmbeddingRetriever(\n",
    "    document_store=document_store,\n",
    "    embedding_model=\"sentence-transformers/all-MiniLM-L6-v2\"  # Lightweight and effective model\n",
    ")"
   ]
  },
  {
   "cell_type": "code",
   "execution_count": 7,
   "metadata": {},
   "outputs": [
    {
     "name": "stderr",
     "output_type": "stream",
     "text": [
      "Batches: 100%|██████████| 1/1 [00:00<00:00,  1.95it/s]\n",
      "Batches: 100%|██████████| 245/245 [14:55<00:00,  3.66s/it]cs/s]\n",
      "Documents Processed: 10000 docs [15:15, 10.92 docs/s]           \n"
     ]
    }
   ],
   "source": [
    "# Update embeddings in the document store\n",
    "document_store.update_embeddings(retriever)"
   ]
  },
  {
   "cell_type": "code",
   "execution_count": 8,
   "metadata": {},
   "outputs": [],
   "source": [
    "# Step 7: Initialize the Reader (for extractive QA)\n",
    "reader = FARMReader(model_name_or_path=\"deepset/roberta-base-squad2\")"
   ]
  },
  {
   "cell_type": "code",
   "execution_count": 9,
   "metadata": {},
   "outputs": [],
   "source": [
    "# Step 8: Initialize the Extractive QA Pipeline\n",
    "pipeline = ExtractiveQAPipeline(reader=reader, retriever=retriever)\n"
   ]
  },
  {
   "cell_type": "code",
   "execution_count": 10,
   "metadata": {},
   "outputs": [
    {
     "name": "stderr",
     "output_type": "stream",
     "text": [
      "Batches: 100%|██████████| 1/1 [00:00<00:00, 27.77it/s]\n",
      "Inferencing Samples: 100%|██████████| 1/1 [00:05<00:00,  5.65s/ Batches]\n"
     ]
    }
   ],
   "source": [
    "# Step 9: Ask a Question\n",
    "question = \"What is the impact of climate change on biodiversity?\"\n",
    "results = pipeline.run(query=question, params={\"Retriever\": {\"top_k\": 5}, \"Reader\": {\"top_k\": 3}})\n"
   ]
  },
  {
   "cell_type": "code",
   "execution_count": 11,
   "metadata": {},
   "outputs": [
    {
     "name": "stdout",
     "output_type": "stream",
     "text": [
      "Question: What is the impact of climate change on biodiversity?\n",
      "\n",
      "Answer 1:\n",
      "  - Answer: degrade\n",
      "  - Confidence: 0.6850\n",
      "  - Context: s clear evidence that the Earth’s ecosystems and landscapes continue to degrade as a consequence of the cumulative impact of human activities. Taking \n",
      "  - Metadata: {'title': 'Sustainability science: an ecohealth perspective', 'authors': 'Rapport, David J.', 'publish_time': '2006-12-14', 'source': 'PMC', 'vector_id': '34'}\n",
      "\n",
      "Answer 2:\n",
      "  - Answer: increase agricultural yields\n",
      "  - Confidence: 0.3483\n",
      "  - Context: oductivity in natural ecosystems. Biodiversity effects might increase agricultural yields at no cost in additional inputs. However, the effects of div\n",
      "  - Metadata: {'title': 'Plant domestication disrupts biodiversity effects across major crop types', 'authors': 'Chacón‐Labella, Julia; García Palacios, Pablo; Matesanz, Silvia; Schöb, Christian; Milla, Rubén', 'publish_time': '2019-07-03', 'source': 'PMC', 'vector_id': '5767'}\n",
      "\n",
      "Answer 3:\n",
      "  - Answer: human health\n",
      "  - Confidence: 0.2173\n",
      "  - Context:  climate, ecosystems and biodiversity, has enormous implications for human health, many of which are deeply disturbing, especially in low-income setti\n",
      "  - Metadata: {'title': 'Sounding the Alarm: Health in the Anthropocene', 'authors': 'Butler, Colin D.', 'publish_time': '2016-06-30', 'source': 'PMC', 'vector_id': '827'}\n"
     ]
    }
   ],
   "source": [
    "# Step 10: Display Results\n",
    "print(f\"Question: {question}\")\n",
    "for idx, answer in enumerate(results[\"answers\"]):\n",
    "    print(f\"\\nAnswer {idx + 1}:\")\n",
    "    print(f\"  - Answer: {answer.answer}\")\n",
    "    print(f\"  - Confidence: {answer.score:.4f}\")\n",
    "    print(f\"  - Context: {answer.context}\")\n",
    "    print(f\"  - Metadata: {answer.meta}\")"
   ]
  },
  {
   "cell_type": "code",
   "execution_count": null,
   "metadata": {},
   "outputs": [],
   "source": []
  }
 ],
 "metadata": {
  "kernelspec": {
   "display_name": "Python 3",
   "language": "python",
   "name": "python3"
  },
  "language_info": {
   "codemirror_mode": {
    "name": "ipython",
    "version": 3
   },
   "file_extension": ".py",
   "mimetype": "text/x-python",
   "name": "python",
   "nbconvert_exporter": "python",
   "pygments_lexer": "ipython3",
   "version": "3.10.0"
  }
 },
 "nbformat": 4,
 "nbformat_minor": 2
}
